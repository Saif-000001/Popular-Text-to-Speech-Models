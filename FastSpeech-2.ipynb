{
 "cells": [
  {
   "cell_type": "markdown",
   "id": "6f8efc1d-94d2-4225-a873-a4a3beb532e3",
   "metadata": {},
   "source": [
    "# Architecture: Non-autoregressive Transformer-based model\n",
    "\n",
    "# Key Features:\n",
    "    # - Faster than autoregressive models like Tacotron 2\n",
    "    # - Uses a feed-forward Transformer network\n",
    "    # - Incorporates duration, pitch, and energy predictors\n",
    "    # - Can control speaking rate and pitch"
   ]
  },
  {
   "cell_type": "code",
   "execution_count": 1,
   "id": "071aad14-e0bc-48a9-9bda-1be21c8f7425",
   "metadata": {},
   "outputs": [],
   "source": [
    " # !pip install espnet \n",
    " # !pip install espnet_model_zoo "
   ]
  },
  {
   "cell_type": "code",
   "execution_count": 2,
   "id": "cd3c58ad-4f6d-49f0-ab06-2af201043ff6",
   "metadata": {},
   "outputs": [],
   "source": [
    "from espnet2.bin.tts_inference import Text2Speech\n",
    "from espnet2.utils.types import str_or_none\n",
    "from IPython.display import Audio"
   ]
  },
  {
   "cell_type": "code",
   "execution_count": null,
   "id": "cbf1118e-43ab-48f5-9b91-51e8254040c4",
   "metadata": {},
   "outputs": [],
   "source": [
    "# Initialize FastSpeech 2 model\n",
    "model = Text2Speech.from_pretrained(model_tag=\"kan-bayashi/ljspeech_fastspeech2\")"
   ]
  },
  {
   "cell_type": "code",
   "execution_count": null,
   "id": "f3623444-cba7-4feb-8868-53006dba43e2",
   "metadata": {},
   "outputs": [],
   "source": [
    "# Generate speech\n",
    "text = \"Hello, this is FastSpeech 2 speaking.\"\n",
    "output = model(text)"
   ]
  },
  {
   "cell_type": "code",
   "execution_count": null,
   "id": "edf199f4-f5c3-4b11-b2c2-825a7f16fbd2",
   "metadata": {},
   "outputs": [],
   "source": [
    "# Extract the waveform (usually stored under 'wav')\n",
    "speech = output['wav']"
   ]
  },
  {
   "cell_type": "code",
   "execution_count": null,
   "id": "c2ee9e34-3300-492e-88b0-895b88846672",
   "metadata": {},
   "outputs": [],
   "source": [
    "# Play the generated speech (if running in a Jupyter or IPython environment)\n",
    "Audio(speech, rate=model.fs)"
   ]
  },
  {
   "cell_type": "code",
   "execution_count": null,
   "id": "c581684b-4b0f-44fc-9f58-29f86a2a0d63",
   "metadata": {},
   "outputs": [],
   "source": []
  }
 ],
 "metadata": {
  "kernelspec": {
   "display_name": "Python 3 (ipykernel)",
   "language": "python",
   "name": "python3"
  },
  "language_info": {
   "codemirror_mode": {
    "name": "ipython",
    "version": 3
   },
   "file_extension": ".py",
   "mimetype": "text/x-python",
   "name": "python",
   "nbconvert_exporter": "python",
   "pygments_lexer": "ipython3",
   "version": "3.10.12"
  },
  "widgets": {
   "application/vnd.jupyter.widget-state+json": {
    "state": {},
    "version_major": 2,
    "version_minor": 0
   }
  }
 },
 "nbformat": 4,
 "nbformat_minor": 5
}
